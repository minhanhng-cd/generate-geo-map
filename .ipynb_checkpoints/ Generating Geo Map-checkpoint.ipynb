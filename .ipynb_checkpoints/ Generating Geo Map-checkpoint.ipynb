{
 "cells": [
  {
   "cell_type": "markdown",
   "metadata": {},
   "source": [
    "# Generating Geo Map"
   ]
  },
  {
   "cell_type": "markdown",
   "metadata": {},
   "source": [
    "## Import libraries"
   ]
  },
  {
   "cell_type": "code",
   "execution_count": null,
   "metadata": {},
   "outputs": [],
   "source": [
    "%matplotlib inline\n",
    "\n",
    "import matplotlib.pyplot as plt\n",
    "import geopandas as gpd\n",
    "import numpy as np\n",
    "import seaborn as sns\n",
    "import geoplot as gplt\n",
    "from shapely.ops import cascaded_union\n",
    "import pandas as pd\n",
    "\n",
    "import warnings\n",
    "warnings.filterwarnings('ignore')"
   ]
  },
  {
   "cell_type": "markdown",
   "metadata": {},
   "source": [
    "## Import Data"
   ]
  },
  {
   "cell_type": "code",
   "execution_count": null,
   "metadata": {},
   "outputs": [],
   "source": [
    "URL = 'http://opendata.hcmgis.vn/geoserver/wfs?srsName=EPSG%3A4326&typename=geonode%3Avietnam_districts&outputFormat=json&version=1.0.0&service=WFS&request=GetFeature'\n",
    "\n",
    "# Read geo data, might take a bit\n",
    "raw = gpd.read_file(URL)"
   ]
  },
  {
   "cell_type": "code",
   "execution_count": null,
   "metadata": {},
   "outputs": [],
   "source": [
    "# Drop unnecessary columns\n",
    "# If you screw up later, run this cell to restore to the original data\n",
    "geo_data = raw[raw.columns[7:]]"
   ]
  },
  {
   "cell_type": "markdown",
   "metadata": {},
   "source": [
    "__Note:__ \n",
    "- Make sure the csv file in the same folder with this notebook.\n",
    "- Add the livestock and feed data to the csv. Put 0 in rows with no data, DON'T LEAVE THEM BLANK."
   ]
  },
  {
   "cell_type": "code",
   "execution_count": null,
   "metadata": {},
   "outputs": [],
   "source": [
    "# Input data\n",
    "# --------- EDIT THIS ---------\n",
    "PATH = './vn_geomap.csv'\n",
    "# -----------------------------\n",
    "\n",
    "# Read file\n",
    "input_data = pd.read_csv(PATH)\n",
    "\n",
    "# Combine livestock and feed data with geo data\n",
    "geo_data[['livestock', 'feed']] = input_data[['livestock','feed']]\n",
    "\n",
    "geo_data.head()"
   ]
  },
  {
   "cell_type": "code",
   "execution_count": null,
   "metadata": {},
   "outputs": [],
   "source": [
    "# Generate some test data (Delete this cell if you have already run the above cell)\n",
    "random_livestock = np.random.random(geo_data.shape[0])\n",
    "geo_data['livestock'] = random_livestock\n",
    "\n",
    "random_num = np.random.random(geo_data.shape[0])\n",
    "geo_data['feed'] = random_num\n",
    "# -------------------------\n",
    "\n",
    "geo_data.head()"
   ]
  },
  {
   "cell_type": "markdown",
   "metadata": {},
   "source": [
    "## Data Preprocessing"
   ]
  },
  {
   "cell_type": "markdown",
   "metadata": {},
   "source": [
    "### Combine two districts in the same province"
   ]
  },
  {
   "cell_type": "code",
   "execution_count": null,
   "metadata": {},
   "outputs": [],
   "source": [
    "# Combine two provinces together\n",
    "def combine_district(province, new_name):\n",
    "    \n",
    "    combined_data = geo_data[geo_data.Province.isin([*province])]\n",
    "    \n",
    "    if new_name == False:\n",
    "        new_name = combined_data['Province'].value_counts().index[0] + ' & ' + combined_data['Province'].value_counts().index[1] \n",
    "        \n",
    "    new_geometry = cascaded_union([combined_data.iloc[0]['geometry'], combined_data.iloc[1]['geometry']])\n",
    "    \n",
    "    new_livestock = combined_data.iloc[0]['livestock'] + combined_data.iloc[1]['livestock'] \n",
    "    \n",
    "    new_feed = combined_data.iloc[0]['feed'] + combined_data.iloc[1]['feed'] \n",
    "   \n",
    "    combined_data = geo_data[~geo_data.Province.isin([*province])]\n",
    "    combined_data = combined_data.append(pd.DataFrame([[new_name, new_name, new_geometry, new_livestock, new_feed]], columns = combined_data.columns))\n",
    "    \n",
    "    return combined_data.reset_index().drop(columns = 'index')"
   ]
  },
  {
   "cell_type": "markdown",
   "metadata": {},
   "source": [
    "__Note:__ You should duplicate the below cell instead of just changing the values and re-running it if you are doing this step many times, so that you can always reproduce the changes."
   ]
  },
  {
   "cell_type": "code",
   "execution_count": null,
   "metadata": {},
   "outputs": [],
   "source": [
    "# --------- EDIT THIS ---------\n",
    "PROVINCES = 'Tay Ninh Province', 'Dong Nai Province'\n",
    "NEW_PROVINCE_NAME = False # If set to False, concatenate two district names together\n",
    "# -----------------------------\n",
    "\n",
    "# Then run,...\n",
    "geo_data = combine_district(PROVINCES, NEW_PROVINCE_NAME)\n",
    "geo_data.tail()"
   ]
  },
  {
   "cell_type": "markdown",
   "metadata": {},
   "source": [
    "This is what I mean by duplicating the cell..."
   ]
  },
  {
   "cell_type": "code",
   "execution_count": null,
   "metadata": {},
   "outputs": [],
   "source": [
    "# --------- EDIT THIS ---------\n",
    "PROVINCES = 'Ho Chi Minh City', 'Binh Duong Province'\n",
    "NEW_PROVINCE_NAME = False # If set to False, concatenate two district names together\n",
    "# -----------------------------\n",
    "\n",
    "# Then run,...\n",
    "geo_data = combine_district(PROVINCES, NEW_PROVINCE_NAME)\n",
    "geo_data.tail()"
   ]
  },
  {
   "cell_type": "markdown",
   "metadata": {},
   "source": [
    "### Combine two provinces together"
   ]
  },
  {
   "cell_type": "code",
   "execution_count": null,
   "metadata": {},
   "outputs": [],
   "source": [
    "# Combine two districts in the same province\n",
    "def combine_district(districts, province, new_name):\n",
    "    \n",
    "    combined_data = geo_data[(geo_data.Name.isin([*districts])) & (geo_data.Province == province)]\n",
    "    \n",
    "    if new_name == False:\n",
    "        new_name = combined_data.iloc[0]['Name'] + ' & ' + combined_data.iloc[1]['Name'] \n",
    "        \n",
    "    new_geometry = cascaded_union([combined_data.iloc[0]['geometry'], combined_data.iloc[1]['geometry']])\n",
    "    \n",
    "    new_livestock = combined_data.iloc[0]['livestock'] + combined_data.iloc[1]['livestock'] \n",
    "    \n",
    "    new_feed = combined_data.iloc[0]['feed'] + combined_data.iloc[1]['feed'] \n",
    "   \n",
    "    combined_data = geo_data[~((geo_data.Name.isin([*districts])) & (geo_data.Province == province))]\n",
    "    combined_data = combined_data.append(pd.DataFrame([[new_name, province, new_geometry, new_livestock, new_feed]], columns = combined_data.columns))\n",
    "    \n",
    "    return combined_data.reset_index().drop(columns = 'index')"
   ]
  },
  {
   "cell_type": "markdown",
   "metadata": {},
   "source": [
    "__Note:__ Same thing here, duplicate the cell instead of just changing the values."
   ]
  },
  {
   "cell_type": "code",
   "execution_count": null,
   "metadata": {},
   "outputs": [],
   "source": [
    "# --------- EDIT THIS ---------\n",
    "DISTRICTS = 'District 7', 'District 8' # Input two districts only\n",
    "PROVINCE = 'Ho Chi Minh City'\n",
    "NEW_DISTRICT_NAME = 'District 7 & 8' # If set to False, concatenate two district names together\n",
    "# -----------------------------\n",
    "\n",
    "# Then run,...\n",
    "geo_data = combine_district(DISTRICTS, PROVINCE, NEW_DISTRICT_NAME)\n",
    "geo_data.tail()"
   ]
  },
  {
   "cell_type": "markdown",
   "metadata": {},
   "source": [
    "### Generate coordinates from geo data"
   ]
  },
  {
   "cell_type": "code",
   "execution_count": null,
   "metadata": {},
   "outputs": [],
   "source": [
    "# Generate coordinates from geo data\n",
    "geo_data['coords'] = geo_data['geometry'].apply(lambda x: x.representative_point().coords[:])\n",
    "geo_data['coords'] = [coords[0] for coords in geo_data['coords']]"
   ]
  },
  {
   "cell_type": "markdown",
   "metadata": {},
   "source": [
    "## Generate Geo Map with Livestock & Feed data"
   ]
  },
  {
   "cell_type": "code",
   "execution_count": null,
   "metadata": {},
   "outputs": [],
   "source": [
    "# Select one or more provinces to plot\n",
    "def select_plot_data(provinces):\n",
    "    \n",
    "    return geo_data[geo_data['Province'].isin(provinces)]\n",
    "\n",
    "# Generate geo map\n",
    "def generate_map(provinces, hue_data, palette, image_size, show_label, excluded_districts, label_size, space_1st_row, space_2nd_row, show_legend):\n",
    " \n",
    "    plot_data = select_plot_data(provinces)\n",
    "    \n",
    "    gplt.choropleth(plot_data, hue = plot_data[hue_data], cmap=palette, figsize = image_size, legend = show_legend)\n",
    "    \n",
    "    if show_label:\n",
    "        for idx, row in plot_data.iterrows():\n",
    "            if row['Name'] not in excluded_districts:\n",
    "                plt.text(s=row['Name'], x = row['coords'][0], y = row['coords'][1],\n",
    "                             horizontalalignment='center', fontdict = {'weight': 'bold', 'size': label_size})\n",
    "                plt.text(s='Livestock: ' + str(round(row['livestock'],2)), x=row['coords'][0],y = row['coords'][1] - space_1st_row,\n",
    "                             horizontalalignment='center', fontdict = {'size': label_size})\n",
    "                plt.text(s='Feed: ' + str(round(row['feed'],2)), x=row['coords'][0],y = row['coords'][1] - space_1st_row - space_2nd_row ,\n",
    "                         horizontalalignment='center', fontdict = {'size': label_size})\n",
    "    plt.show()"
   ]
  },
  {
   "cell_type": "markdown",
   "metadata": {},
   "source": [
    "__Note:__ You can save the plot as an image but right-clicking the plot then `Save image as...`"
   ]
  },
  {
   "cell_type": "code",
   "execution_count": null,
   "metadata": {},
   "outputs": [],
   "source": [
    "# --------- EDIT THIS ---------\n",
    "PROVINCES = ['Ho Chi Minh City', 'Binh Duong Province'] # Plot the data of given provinces, must be a list\n",
    "HUE_DATA =  'livestock' # Metric used to color code\n",
    "PALETTE = 'OrRd' # Color Gradient, find more here: https://matplotlib.org/3.1.0/tutorials/colors/colormaps.html\n",
    "IMAGE_SIZE = (60,30)\n",
    "SHOW_LABEL = True # Show/hide all labels\n",
    "EXCLUDED_DISTRICTS = ['Tan Binh District', 'District 3','Phu Nhuan District'] # Hide the labels of given districts, must be a list\n",
    "LABEL_SIZE = 8 # Font size of label\n",
    "SPACE_1ST_ROW = 0.01 # Space between District name label and Livestock data label\n",
    "SPACE_2ND_ROW = 0.01 # Space between Livestock data label and Feed data label\n",
    "SHOW_LEGEND = True # Show/hide legend\n",
    "# -----------------------------\n",
    "\n",
    "# Then run,...\n",
    "generate_map(PROVINCES, HUE_DATA,PALETTE, IMAGE_SIZE, SHOW_LABEL, EXCLUDED_DISTRICTS, LABEL_SIZE, SPACE_1ST_ROW, SPACE_2ND_ROW, SHOW_LEGEND)"
   ]
  }
 ],
 "metadata": {
  "kernelspec": {
   "display_name": "Python 3",
   "language": "python",
   "name": "python3"
  },
  "language_info": {
   "codemirror_mode": {
    "name": "ipython",
    "version": 3
   },
   "file_extension": ".py",
   "mimetype": "text/x-python",
   "name": "python",
   "nbconvert_exporter": "python",
   "pygments_lexer": "ipython3",
   "version": "3.7.3"
  }
 },
 "nbformat": 4,
 "nbformat_minor": 2
}
